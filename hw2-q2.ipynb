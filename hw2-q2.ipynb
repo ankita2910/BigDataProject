{
 "cells": [
  {
   "cell_type": "markdown",
   "metadata": {},
   "source": [
    "# HW#2 - Q#2"
   ]
  },
  {
   "cell_type": "markdown",
   "metadata": {},
   "source": [
    "Name: "
   ]
  },
  {
   "cell_type": "markdown",
   "metadata": {},
   "source": [
    "## Instructions:"
   ]
  },
  {
   "cell_type": "markdown",
   "metadata": {},
   "source": [
    "You have been given the template below to help you get started with question #2 of homework#2. You don't have to stick with this template but it may help you with organiziation of your code. You may need to write more functions or need fewer functions than what has been provided below. The template functions return nothing for now. Feel free to change what the functions return (if they return anything).\n",
    "\n",
    "You may use functions from python libraries that perform the same computation (for example, there are functions that compute euclidean distance) but you are encouraged to implement them yourself as a practice.\n",
    "\n",
    "You may NOT use k-means/k-median functions from any libraries."
   ]
  },
  {
   "cell_type": "code",
   "execution_count": null,
   "metadata": {},
   "outputs": [],
   "source": [
    "def compute_centroid(points):\n",
    "    '''\n",
    "    Given coordinates of points, returns the coordinates of the centroid\n",
    "    '''\n",
    "    return "
   ]
  },
  {
   "cell_type": "code",
   "execution_count": null,
   "metadata": {},
   "outputs": [],
   "source": [
    "def compute_median(points):\n",
    "    '''\n",
    "    Given coordinates of points, returns the coordinates of the median\n",
    "    '''\n",
    "    return "
   ]
  },
  {
   "cell_type": "code",
   "execution_count": null,
   "metadata": {},
   "outputs": [],
   "source": [
    "def euclidean_distance(p, q):\n",
    "    '''\n",
    "    Given coordinates of points p and q, computes their euclidean (l2) distance.\n",
    "    '''\n",
    "    return \n",
    "  "
   ]
  },
  {
   "cell_type": "code",
   "execution_count": null,
   "metadata": {},
   "outputs": [],
   "source": [
    "def manhattan_distance(p, q):\n",
    "    '''\n",
    "    Given coordinates of points p and q, computes their manhattan (l1) distance.\n",
    "    '''\n",
    "    return "
   ]
  },
  {
   "cell_type": "code",
   "execution_count": null,
   "metadata": {},
   "outputs": [],
   "source": [
    "def euclidean_cost(points, centroids):\n",
    "    '''\n",
    "    (Useful for regular python implementation. Not needed for Spark.)\n",
    "    \n",
    "    Given coordinates of points and centroids, compute the cost for an iteration when euclidean distance is used.\n",
    "    '''\n",
    "    return "
   ]
  },
  {
   "cell_type": "code",
   "execution_count": null,
   "metadata": {},
   "outputs": [],
   "source": [
    "def manhattan_cost(points, medians):\n",
    "    '''\n",
    "    (Useful for regular python implementation. Not needed for Spark.)\n",
    "    \n",
    "    Given coordinates of points and cluster medians, compute the cost for an iteration when manhattan distance is used.\n",
    "    '''\n",
    "    return "
   ]
  },
  {
   "cell_type": "code",
   "execution_count": null,
   "metadata": {},
   "outputs": [],
   "source": [
    "def plot_cost(cost_data):\n",
    "    '''\n",
    "    Given the costs for each iteration, plot them\n",
    "    '''\n",
    "    return "
   ]
  },
  {
   "cell_type": "code",
   "execution_count": null,
   "metadata": {},
   "outputs": [],
   "source": [
    "def find_closest_cluster(p, centroids):\n",
    "    '''\n",
    "    Given point p and coordinates of different centroids, determines the cluster of p.\n",
    "    This can run in memory as the number of centroids is small.\n",
    "    '''\n",
    "    return "
   ]
  }
 ],
 "metadata": {
  "kernelspec": {
   "display_name": "Python 3",
   "language": "python",
   "name": "python3"
  },
  "language_info": {
   "codemirror_mode": {
    "name": "ipython",
    "version": 3
   },
   "file_extension": ".py",
   "mimetype": "text/x-python",
   "name": "python",
   "nbconvert_exporter": "python",
   "pygments_lexer": "ipython3",
   "version": "3.8.3"
  }
 },
 "nbformat": 4,
 "nbformat_minor": 4
}
